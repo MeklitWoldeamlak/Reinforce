{
 "cells": [
  {
   "cell_type": "code",
   "execution_count": null,
   "metadata": {},
   "outputs": [],
   "source": [
    "#select a random voltage within the range \n",
    "#use module to take the probablities of transition  \n",
    "#Make the next state the current state and repeat process \n",
    "\n",
    "n=10 #number of iteration\n",
    "states=['I', 'II','III','X1','X2']\n",
    "Vb=1.001 #can change to select random\n",
    "current_state='I'\n",
    "path=[]\n",
    "destinations=[]\n",
    "for i in range(0,n):\n",
    "    model=TransitionModel(state=current_state)\n",
    "    data=mod1.data_frame()\n",
    "    filt=data['Voltage'].round(3)==Vb\n",
    "    probablity=data[filt][['prob_I','prob_II','prob_III','prob_X1','prob_X2']].values.tolist()\n",
    "    next_state = np.random.choice(states,replace=True,p=probablity[0])\n",
    "    path.append(next_state)\n",
    "    current_state=next_state \n",
    "    last_destination=path[-1]\n",
    "    \n",
    "destinations.append(last_destination) "
   ]
  }
 ],
 "metadata": {
  "kernelspec": {
   "display_name": "Python 3",
   "language": "python",
   "name": "python3"
  },
  "language_info": {
   "codemirror_mode": {
    "name": "ipython",
    "version": 3
   },
   "file_extension": ".py",
   "mimetype": "text/x-python",
   "name": "python",
   "nbconvert_exporter": "python",
   "pygments_lexer": "ipython3",
   "version": "3.8.3"
  }
 },
 "nbformat": 4,
 "nbformat_minor": 4
}
